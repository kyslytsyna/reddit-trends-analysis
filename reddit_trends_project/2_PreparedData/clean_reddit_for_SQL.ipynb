{
 "cells": [
  {
   "cell_type": "code",
   "execution_count": 1,
   "id": "5d6c016a",
   "metadata": {},
   "outputs": [
    {
     "data": {
      "text/plain": [
       "tokens\n",
       "<class 'str'>    2974\n",
       "Name: count, dtype: int64"
      ]
     },
     "execution_count": 1,
     "metadata": {},
     "output_type": "execute_result"
    }
   ],
   "source": [
    "import pandas as pd\n",
    "import csv\n",
    "import ast\n",
    "import json\n",
    "\n",
    "# 1. Load the old CSV (comma-separated)\n",
    "df = pd.read_csv(\"cleaned_reddit_posts.csv\")\n",
    "\n",
    "df['tokens'].apply(type).value_counts() "
   ]
  },
  {
   "cell_type": "code",
   "execution_count": null,
   "id": "12b94996",
   "metadata": {},
   "outputs": [],
   "source": [
    "# Ensure tokens are loaded as proper Python lists\n",
    "df['tokens_list'] = df['tokens'].apply(lambda x: ast.literal_eval(x) if isinstance(x, str) else x)\n",
    "\n",
    "# Create valid JSON array\n",
    "df['tokens_json'] = df['tokens_list'].apply(lambda lst: json.dumps(lst, ensure_ascii=False))"
   ]
  },
  {
   "cell_type": "code",
   "execution_count": null,
   "id": "f1dc8cf4",
   "metadata": {},
   "outputs": [],
   "source": [
    "# Replace (\\r) or (\\n) characters that may remain with a single space\n",
    "for col in ['clean_title']:\n",
    "    df[col] = (\n",
    "        df[col]\n",
    "        .astype(str)\n",
    "        .str.replace('\\r', ' ')\n",
    "        .str.replace('\\n', ' ')\n",
    "    )"
   ]
  },
  {
   "cell_type": "code",
   "execution_count": 6,
   "id": "bf2f791d",
   "metadata": {},
   "outputs": [],
   "source": [
    "# Export without quoting everything\n",
    "df[['clean_title','score','num_comments','created_utc',\n",
    "    'subreddit','created_date','year_month','tokens','tokens_json']].to_csv(\n",
    "    \"cleaned_reddit_posts_pipe.csv\",\n",
    "    sep=\"|\",\n",
    "    index=False,\n",
    "    quoting=csv.QUOTE_NONE,     # don't automatically quote fields\n",
    "    escapechar=\"\\\\\",            # escape any accidental pipes just in case\n",
    "    lineterminator=\"\\n\",\n",
    ")"
   ]
  }
 ],
 "metadata": {
  "kernelspec": {
   "display_name": "venv",
   "language": "python",
   "name": "python3"
  },
  "language_info": {
   "codemirror_mode": {
    "name": "ipython",
    "version": 3
   },
   "file_extension": ".py",
   "mimetype": "text/x-python",
   "name": "python",
   "nbconvert_exporter": "python",
   "pygments_lexer": "ipython3",
   "version": "3.12.7"
  }
 },
 "nbformat": 4,
 "nbformat_minor": 5
}
